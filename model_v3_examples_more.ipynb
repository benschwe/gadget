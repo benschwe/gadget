{
 "cells": [
  {
   "cell_type": "code",
   "execution_count": null,
   "metadata": {},
   "outputs": [],
   "source": [
    "for g in gadget_list:\n",
    "\n",
    "    print('************')\n",
    "    print(f'Gadget id: {g.id}')\n",
    "    second_crit_idx = argmax(g.output_df.total_energy_released_kt)\n",
    "    #print(second_crit_idx)\n",
    "    second_crit_idx_v2 = argmax(g.output_df.fission_rate_pers.max)\n",
    "    #print(second_crit_idx_v2)\n",
    "    print(f'Yield (kt): {g.output_df.total_energy_released_kt[second_crit_idx]:.2f}')\n",
    "    print(f'Efficiency (%): {100 * (g.output_df.total_energy_released_kt[second_crit_idx] / g.maximum_possible_energy_kt):.2f}')\n",
    "    print(f'Radius at 2nd criticality (cm): {100 * g.output_df.radius_m[second_crit_idx]:.2f}')\n",
    "    print('************\\n')"
   ]
  }
 ],
 "metadata": {
  "language_info": {
   "name": "python"
  }
 },
 "nbformat": 4,
 "nbformat_minor": 2
}
